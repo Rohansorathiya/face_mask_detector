{
 "cells": [
  {
   "cell_type": "markdown",
   "metadata": {},
   "source": [
    "# Neural Network Model and learning"
   ]
  },
  {
   "cell_type": "code",
   "execution_count": 9,
   "metadata": {},
   "outputs": [],
   "source": [
    "import numpy as np\n",
    "\n",
    "# load train datasets\n",
    "train_X=np.load('train_X.npy')\n",
    "train_Y=np.load('train_Y.npy')\n",
    "\n",
    "#  load test dataset\n",
    "test_X=np.load('test_X.npy')\n",
    "test_Y=np.load('test_Y.npy')"
   ]
  },
  {
   "cell_type": "markdown",
   "metadata": {},
   "source": [
    "## Visualizing the dataset"
   ]
  },
  {
   "cell_type": "code",
   "execution_count": 10,
   "metadata": {},
   "outputs": [
    {
     "name": "stdout",
     "output_type": "stream",
     "text": [
      "(10000, 150, 150, 1)\n"
     ]
    }
   ],
   "source": [
    "print(train_X.shape)"
   ]
  },
  {
   "cell_type": "code",
   "execution_count": 11,
   "metadata": {},
   "outputs": [
    {
     "data": {
      "text/plain": [
       "(10000, 2)"
      ]
     },
     "execution_count": 11,
     "metadata": {},
     "output_type": "execute_result"
    }
   ],
   "source": [
    "train_Y.shape"
   ]
  },
  {
   "cell_type": "code",
   "execution_count": 12,
   "metadata": {},
   "outputs": [
    {
     "data": {
      "text/plain": [
       "(992, 150, 150, 1)"
      ]
     },
     "execution_count": 12,
     "metadata": {},
     "output_type": "execute_result"
    }
   ],
   "source": [
    "test_X.shape"
   ]
  },
  {
   "cell_type": "code",
   "execution_count": 13,
   "metadata": {},
   "outputs": [
    {
     "data": {
      "text/plain": [
       "(992, 2)"
      ]
     },
     "execution_count": 13,
     "metadata": {},
     "output_type": "execute_result"
    }
   ],
   "source": [
    "test_Y.shape"
   ]
  },
  {
   "cell_type": "markdown",
   "metadata": {},
   "source": [
    "## Neural Network Modelling & Learning"
   ]
  },
  {
   "cell_type": "code",
   "execution_count": 14,
   "metadata": {},
   "outputs": [],
   "source": [
    "from keras.models import Sequential\n",
    "from keras.layers import Dense,Activation,Flatten,Dropout\n",
    "from keras.layers import Conv2D,MaxPooling2D\n",
    "from keras.callbacks import ModelCheckpoint\n",
    "\n",
    "# using keras creating a neural networks model\n",
    "model=Sequential()"
   ]
  },
  {
   "cell_type": "code",
   "execution_count": 15,
   "metadata": {},
   "outputs": [],
   "source": [
    "#The first CNN layer followed by Relu and MaxPooling layers\n",
    "\n",
    "model.add(Conv2D(200,(3,3),input_shape=train_X.shape[1:]))\n",
    "model.add(Activation('relu'))\n",
    "model.add(MaxPooling2D(pool_size=(2,2)))"
   ]
  },
  {
   "cell_type": "code",
   "execution_count": 16,
   "metadata": {},
   "outputs": [],
   "source": [
    "#The second convolution layer followed by Relu and MaxPooling layers\n",
    "\n",
    "model.add(Conv2D(100,(3,3)))\n",
    "model.add(Activation('relu'))\n",
    "model.add(MaxPooling2D(pool_size=(2,2)))"
   ]
  },
  {
   "cell_type": "code",
   "execution_count": 17,
   "metadata": {},
   "outputs": [],
   "source": [
    "#Flatten layer to stack the output convolutions from second convolution layer\n",
    "\n",
    "model.add(Flatten())\n",
    "model.add(Dropout(0.5))"
   ]
  },
  {
   "cell_type": "code",
   "execution_count": 18,
   "metadata": {},
   "outputs": [],
   "source": [
    "#Dense layer of 64 neurons\n",
    "model.add(Dense(50,activation='relu'))\n",
    "\n",
    "#The Final layer with two outputs for two categories\n",
    "model.add(Dense(2,activation='softmax'))"
   ]
  },
  {
   "cell_type": "code",
   "execution_count": 19,
   "metadata": {},
   "outputs": [],
   "source": [
    "# Compile model\n",
    "model.compile(loss='categorical_crossentropy',optimizer='adam',metrics=['accuracy'])"
   ]
  },
  {
   "cell_type": "code",
   "execution_count": 21,
   "metadata": {},
   "outputs": [],
   "source": [
    "# creating model checkpoint: Callback to save the Keras model or model weights at some frequency.\n",
    "checkpoint = ModelCheckpoint('model-{epoch:03d}.model',monitor='val_loss',verbose=0,save_best_only=True,mode='auto')"
   ]
  },
  {
   "cell_type": "code",
   "execution_count": 23,
   "metadata": {
    "scrolled": false
   },
   "outputs": [
    {
     "name": "stdout",
     "output_type": "stream",
     "text": [
      "Epoch 1/10\n",
      "219/219 [==============================] - ETA: 0s - loss: 0.2980 - accuracy: 0.8754WARNING:tensorflow:From C:\\ProgramData\\Anaconda3\\lib\\site-packages\\tensorflow\\python\\training\\tracking\\tracking.py:111: Model.state_updates (from tensorflow.python.keras.engine.training) is deprecated and will be removed in a future version.\n",
      "Instructions for updating:\n",
      "This property should not be used in TensorFlow 2.0, as updates are applied automatically.\n",
      "WARNING:tensorflow:From C:\\ProgramData\\Anaconda3\\lib\\site-packages\\tensorflow\\python\\training\\tracking\\tracking.py:111: Layer.updates (from tensorflow.python.keras.engine.base_layer) is deprecated and will be removed in a future version.\n",
      "Instructions for updating:\n",
      "This property should not be used in TensorFlow 2.0, as updates are applied automatically.\n",
      "INFO:tensorflow:Assets written to: model-001.model\\assets\n",
      "219/219 [==============================] - 759s 3s/step - loss: 0.2980 - accuracy: 0.8754 - val_loss: 0.1852 - val_accuracy: 0.9340\n",
      "Epoch 2/10\n",
      "219/219 [==============================] - ETA: 0s - loss: 0.1176 - accuracy: 0.9570INFO:tensorflow:Assets written to: model-002.model\\assets\n",
      "219/219 [==============================] - 740s 3s/step - loss: 0.1176 - accuracy: 0.9570 - val_loss: 0.1230 - val_accuracy: 0.9620\n",
      "Epoch 3/10\n",
      "219/219 [==============================] - 736s 3s/step - loss: 0.0865 - accuracy: 0.9687 - val_loss: 0.2753 - val_accuracy: 0.9193\n",
      "Epoch 4/10\n",
      "219/219 [==============================] - ETA: 0s - loss: 0.0497 - accuracy: 0.9820INFO:tensorflow:Assets written to: model-004.model\\assets\n",
      "219/219 [==============================] - 758s 3s/step - loss: 0.0497 - accuracy: 0.9820 - val_loss: 0.1142 - val_accuracy: 0.9667\n",
      "Epoch 5/10\n",
      "219/219 [==============================] - 750s 3s/step - loss: 0.0422 - accuracy: 0.9867 - val_loss: 0.1182 - val_accuracy: 0.9667\n",
      "Epoch 6/10\n",
      "219/219 [==============================] - 652s 3s/step - loss: 0.0319 - accuracy: 0.9899 - val_loss: 0.2044 - val_accuracy: 0.9403\n",
      "Epoch 7/10\n",
      "219/219 [==============================] - 632s 3s/step - loss: 0.0265 - accuracy: 0.9906 - val_loss: 0.1739 - val_accuracy: 0.9553\n",
      "Epoch 8/10\n",
      "219/219 [==============================] - 638s 3s/step - loss: 0.0232 - accuracy: 0.9929 - val_loss: 0.1682 - val_accuracy: 0.9620\n",
      "Epoch 9/10\n",
      "219/219 [==============================] - 638s 3s/step - loss: 0.0209 - accuracy: 0.9929 - val_loss: 0.1256 - val_accuracy: 0.9723\n",
      "Epoch 10/10\n",
      "219/219 [==============================] - 653s 3s/step - loss: 0.0140 - accuracy: 0.9953 - val_loss: 0.3143 - val_accuracy: 0.9437\n"
     ]
    }
   ],
   "source": [
    "history=model.fit(train_X,train_Y,callbacks=[checkpoint],epochs=10, validation_split=0.3,shuffle=True)"
   ]
  },
  {
   "cell_type": "code",
   "execution_count": 29,
   "metadata": {},
   "outputs": [
    {
     "data": {
      "image/png": "[encoded data removed]",
      "text/plain": [
       "<Figure size 432x288 with 1 Axes>"
      ]
     },
     "metadata": {
      "needs_background": "light"
     },
     "output_type": "display_data"
    }
   ],
   "source": [
    "from matplotlib import pyplot as plt\n",
    "\n",
    "plt.plot(history.history['loss'],'r',label='training loss')\n",
    "plt.plot(history.history['val_loss'],label='validation loss')\n",
    "plt.xlabel('# epochs')\n",
    "plt.ylabel('loss')\n",
    "plt.legend()\n",
    "plt.show()"
   ]
  },
  {
   "cell_type": "code",
   "execution_count": 30,
   "metadata": {},
   "outputs": [
    {
     "data": {
      "image/png": "[encoded data removed]",
      "text/plain": [
       "<Figure size 432x288 with 1 Axes>"
      ]
     },
     "metadata": {
      "needs_background": "light"
     },
     "output_type": "display_data"
    }
   ],
   "source": [
    "plt.plot(history.history['accuracy'],'r',label='training accuracy')\n",
    "plt.plot(history.history['val_accuracy'],label='validation accuracy')\n",
    "plt.xlabel('# epochs')\n",
    "plt.ylabel('loss')\n",
    "plt.legend()\n",
    "plt.show()"
   ]
  },
  {
   "cell_type": "markdown",
   "metadata": {},
   "source": [
    "## Evaluating on test Dataset"
   ]
  },
  {
   "cell_type": "code",
   "execution_count": 28,
   "metadata": {},
   "outputs": [
    {
     "name": "stdout",
     "output_type": "stream",
     "text": [
      "31/31 [==============================] - 20s 654ms/step - loss: 0.1458 - accuracy: 0.9688\n",
      "[0.145834818482399, 0.96875]\n"
     ]
    }
   ],
   "source": [
    "print(model.evaluate(test_X,test_Y))"
   ]
  },
  {
   "cell_type": "markdown",
   "metadata": {},
   "source": [
    "## Accuracy on test dataset is <span>96.88%</span>"
   ]
  },
  {
   "cell_type": "markdown",
   "metadata": {},
   "source": [
    "<h1><center> -----Thank-you-----</center></h1>"
   ]
  }
 ],
 "metadata": {
  "kernelspec": {
   "display_name": "Python 3",
   "language": "python",
   "name": "python3"
  },
  "language_info": {
   "codemirror_mode": {
    "name": "ipython",
    "version": 3
   },
   "file_extension": ".py",
   "mimetype": "text/x-python",
   "name": "python",
   "nbconvert_exporter": "python",
   "pygments_lexer": "ipython3",
   "version": "3.8.3"
  }
 },
 "nbformat": 4,
 "nbformat_minor": 4
}
