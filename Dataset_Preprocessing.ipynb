{
 "cells": [
  {
   "cell_type": "markdown",
   "metadata": {},
   "source": [
    "# Preprocessing the dataset"
   ]
  },
  {
   "cell_type": "code",
   "execution_count": 1,
   "metadata": {},
   "outputs": [],
   "source": [
    "#importing all the dependencies\n",
    "\n",
    "import cv2\n",
    "import os\n",
    "import numpy as np"
   ]
  },
  {
   "cell_type": "code",
   "execution_count": 2,
   "metadata": {},
   "outputs": [
    {
     "name": "stdout",
     "output_type": "stream",
     "text": [
      "{'WithMask': 0, 'WithoutMask': 1}\n",
      "['WithMask', 'WithoutMask'] ['WithMask', 'WithoutMask']\n",
      "[0, 1]\n"
     ]
    }
   ],
   "source": [
    "data_path = 'Face Mask Dataset'                      # Name of folder\n",
    "train_data_path = os.path.join(data_path,'Train')    # train data path\n",
    "test_data_path = os.path.join(data_path,'Test')      # test data path\n",
    "\n",
    "train_categories = os.listdir(train_data_path)\n",
    "test_categories = os.listdir(test_data_path)\n",
    "\n",
    "#labesl are same in both Test asnd Train\n",
    "labels = [i for i in range(len(train_categories))]\n",
    "\n",
    "label_dict = dict(zip(train_categories,labels)) #empty dictionary\n",
    "\n",
    "print(label_dict)\n",
    "print(train_categories,test_categories)\n",
    "print(labels)\n"
   ]
  },
  {
   "cell_type": "markdown",
   "metadata": {},
   "source": [
    "## Resizing all images to average image size i.e. 150 x 150 px"
   ]
  },
  {
   "cell_type": "code",
   "execution_count": 7,
   "metadata": {},
   "outputs": [],
   "source": [
    "# 150 is average of all the images \n",
    "img_size = 150\n",
    "\n",
    "#Training dataset\n",
    "train_X = []\n",
    "train_Y = []\n",
    "\n",
    "# Testing dataset\n",
    "test_X = []\n",
    "test_Y = []\n",
    "\n",
    "for category in train_categories:\n",
    "    folder_path=os.path.join(train_data_path,category)\n",
    "    img_names=os.listdir(folder_path)\n",
    "        \n",
    "    for img_name in img_names:\n",
    "        img_path=os.path.join(folder_path,img_name)\n",
    "        img=cv2.imread(img_path)\n",
    "\n",
    "        try:\n",
    "            gray=cv2.cvtColor(img,cv2.COLOR_BGR2GRAY)           \n",
    "            #Coverting the image into gray scale\n",
    "            resized=cv2.resize(gray,(img_size,img_size))\n",
    "            #resizing the gray scale into 50x50, since we need a fixed common size for all the images in the dataset\n",
    "            train_X.append(resized)\n",
    "            if label_dict[category]==0:\n",
    "                train_Y.append([0,1])\n",
    "            else:\n",
    "                train_Y.append([1,0])\n",
    "            #appending the image and the label(categorized) into the list (dataset)\n",
    "\n",
    "        except Exception as e:\n",
    "            print('Exception:',e)\n",
    "            #if any exception rasied, the exception will be printed here. And pass to the next image\n",
    "\n",
    "for category in test_categories:\n",
    "    folder_path=os.path.join(test_data_path,category)\n",
    "    img_names=os.listdir(folder_path)\n",
    "        \n",
    "    for img_name in img_names:\n",
    "        img_path=os.path.join(folder_path,img_name)\n",
    "        img=cv2.imread(img_path)\n",
    "\n",
    "        try:\n",
    "            gray=cv2.cvtColor(img,cv2.COLOR_BGR2GRAY)           \n",
    "            #Coverting the image into gray scale\n",
    "            resized=cv2.resize(gray,(img_size,img_size))\n",
    "            #resizing the gray scale into 50x50, since we need a fixed common size for all the images in the dataset\n",
    "            test_X.append(resized)\n",
    "            if label_dict[category]==0:\n",
    "                test_Y.append([0,1])\n",
    "            else:\n",
    "                test_Y.append([1,0])\n",
    "            #appending the image and the label(categorized) into the list (dataset)\n",
    "\n",
    "        except Exception as e:\n",
    "            print('Exception:',e)\n",
    "            #if any exception rasied, the exception will be printed here. And pass to the next image\n"
   ]
  },
  {
   "cell_type": "markdown",
   "metadata": {},
   "source": [
    "### Normalizing the dataset\n"
   ]
  },
  {
   "cell_type": "code",
   "execution_count": 8,
   "metadata": {},
   "outputs": [],
   "source": [
    "train_X=np.array(train_X)/255.0\n",
    "train_X=np.reshape(train_X,(train_X.shape[0],img_size,img_size,1))\n",
    "train_Y=np.array(train_Y)\n",
    "\n",
    "test_X=np.array(test_X)/255.0\n",
    "test_X=np.reshape(test_X,(test_X.shape[0],img_size,img_size,1))\n",
    "test_Y=np.array(test_Y)\n",
    "\n",
    "\n",
    "# convert to binary\n",
    "from keras.utils import np_utils\n",
    "\n",
    "new_train_Y=np_utils.to_categorical(train_Y)\n",
    "new_test_Y=np_utils.to_categorical(test_Y)"
   ]
  },
  {
   "cell_type": "markdown",
   "metadata": {},
   "source": [
    "### Save the processed dataset into the project folder"
   ]
  },
  {
   "cell_type": "code",
   "execution_count": 9,
   "metadata": {},
   "outputs": [],
   "source": [
    "np.save('train_X',train_X)\n",
    "np.save('train_Y',train_Y)\n",
    "\n",
    "np.save('test_X',test_X)\n",
    "np.save('test_Y',test_Y)"
   ]
  },
  {
   "cell_type": "code",
   "execution_count": 10,
   "metadata": {},
   "outputs": [
    {
     "data": {
      "text/plain": [
       "(10000, 150, 150, 1)"
      ]
     },
     "execution_count": 10,
     "metadata": {},
     "output_type": "execute_result"
    }
   ],
   "source": [
    "train_X.shape"
   ]
  },
  {
   "cell_type": "code",
   "execution_count": 13,
   "metadata": {},
   "outputs": [
    {
     "data": {
      "text/plain": [
       "(10000, 2)"
      ]
     },
     "execution_count": 13,
     "metadata": {},
     "output_type": "execute_result"
    }
   ],
   "source": [
    "train_Y.shape"
   ]
  },
  {
   "cell_type": "code",
   "execution_count": 14,
   "metadata": {},
   "outputs": [
    {
     "data": {
      "text/plain": [
       "(992, 150, 150, 1)"
      ]
     },
     "execution_count": 14,
     "metadata": {},
     "output_type": "execute_result"
    }
   ],
   "source": [
    "test_X.shape"
   ]
  },
  {
   "cell_type": "code",
   "execution_count": 16,
   "metadata": {},
   "outputs": [
    {
     "data": {
      "text/plain": [
       "(992, 2)"
      ]
     },
     "execution_count": 16,
     "metadata": {},
     "output_type": "execute_result"
    }
   ],
   "source": [
    "test_Y.shape"
   ]
  },
  {
   "cell_type": "markdown",
   "metadata": {},
   "source": [
    "<h1><center> -----Thank-you-----</center></h1>"
   ]
  }
 ],
 "metadata": {
  "kernelspec": {
   "display_name": "Python 3",
   "language": "python",
   "name": "python3"
  },
  "language_info": {
   "codemirror_mode": {
    "name": "ipython",
    "version": 3
   },
   "file_extension": ".py",
   "mimetype": "text/x-python",
   "name": "python",
   "nbconvert_exporter": "python",
   "pygments_lexer": "ipython3",
   "version": "3.8.3"
  }
 },
 "nbformat": 4,
 "nbformat_minor": 4
}
