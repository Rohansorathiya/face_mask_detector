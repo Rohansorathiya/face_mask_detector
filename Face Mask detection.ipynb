{
 "cells": [
  {
   "cell_type": "markdown",
   "metadata": {},
   "source": [
    "# Predicting results using the Neural Network Model"
   ]
  },
  {
   "cell_type": "code",
   "execution_count": 1,
   "metadata": {},
   "outputs": [],
   "source": [
    "# importing all dependencies\n",
    "from keras.models import load_model\n",
    "import cv2\n",
    "\n",
    "import numpy as np"
   ]
  },
  {
   "cell_type": "markdown",
   "metadata": {},
   "source": [
    "## Loading model"
   ]
  },
  {
   "cell_type": "code",
   "execution_count": 2,
   "metadata": {},
   "outputs": [],
   "source": [
    "model = load_model('final-model')"
   ]
  },
  {
   "cell_type": "markdown",
   "metadata": {},
   "source": [
    "##  Detecting frontal face using Haar Cascade Classifier"
   ]
  },
  {
   "cell_type": "code",
   "execution_count": 3,
   "metadata": {},
   "outputs": [],
   "source": [
    "face_clsfr=cv2.CascadeClassifier('haarcascade_frontalface_default.xml')"
   ]
  },
  {
   "cell_type": "markdown",
   "metadata": {},
   "source": [
    "## Lables for results"
   ]
  },
  {
   "cell_type": "code",
   "execution_count": 4,
   "metadata": {},
   "outputs": [],
   "source": [
    "labels_dict={0:' NO MASK',1:' MASK ON'}\n",
    "color_dict={0:(0,0,255),1:(0,255,0)}"
   ]
  },
  {
   "cell_type": "markdown",
   "metadata": {},
   "source": [
    "## for testing model on video-cam"
   ]
  },
  {
   "cell_type": "code",
   "execution_count": 5,
   "metadata": {},
   "outputs": [],
   "source": [
    "# capture video from the laptop primary webcam\n",
    "source=cv2.VideoCapture(0)"
   ]
  },
  {
   "cell_type": "code",
   "execution_count": 6,
   "metadata": {},
   "outputs": [],
   "source": [
    "while(True):\n",
    "\n",
    "    ret,img=source.read()\n",
    "    \n",
    "    # convert to grayscale\n",
    "    gray=cv2.cvtColor(img, cv2.COLOR_BGR2GRAY )\n",
    "    \n",
    "    # using haar cascade classifier detecting frontal face in each frame of video\n",
    "    faces=face_clsfr.detectMultiScale(gray,1.3,5)  \n",
    "\n",
    "    # predicting using model on the frontal face detected using haar classifier\n",
    "    for (x,y,w,h) in faces:\n",
    "    \n",
    "        face_img=gray[y:y+w,x:x+w]                         # cropping face from gray image \n",
    "        resized=cv2.resize(face_img,(150,150))             # resizing image to 150*150 which is image size considered in dataset\n",
    "        normalized=resized/255.0                           # normalizing the image\n",
    "        reshaped=np.reshape(normalized,(1,150,150,1))      # reshaping image to 4d matrix whixh is input for our model\n",
    "        result=model.predict(reshaped)                     # reshaped image is send to model for prediction which returns 0,1\n",
    "\n",
    "        label=np.argmax(result,axis=1)[0]\n",
    "      \n",
    "        # draw square around the face and color is based on result\n",
    "        cv2.rectangle(img,(x,y),(x+w,y+h),color_dict[label],2)\n",
    "        cv2.rectangle(img,(x,y+h),(x+w,y+h+40),color_dict[label],2)\n",
    "        # write label the image with the result\n",
    "        cv2.putText(img, labels_dict[label], (x, y+h+25),cv2.FONT_HERSHEY_SIMPLEX,0.8,(255,255,255),1)\n",
    "        \n",
    "    # display image\n",
    "    cv2.imshow('face mask detector',img)\n",
    "    key=cv2.waitKey(1)\n",
    "    \n",
    "    # if esc key is pressed then the video stops and the model exits\n",
    "    if(key==27):\n",
    "        break\n",
    "\n",
    "# destroy all windows\n",
    "cv2.destroyAllWindows()\n",
    "# turn the webcam off\n",
    "source.release()"
   ]
  },
  {
   "cell_type": "markdown",
   "metadata": {},
   "source": [
    "## for testing model on image"
   ]
  },
  {
   "cell_type": "code",
   "execution_count": 16,
   "metadata": {},
   "outputs": [],
   "source": [
    "path='test7.png'"
   ]
  },
  {
   "cell_type": "code",
   "execution_count": 17,
   "metadata": {},
   "outputs": [],
   "source": [
    "img=cv2.imread(path)"
   ]
  },
  {
   "cell_type": "code",
   "execution_count": 18,
   "metadata": {},
   "outputs": [],
   "source": [
    "# convert to grayscale\n",
    "gray=cv2.cvtColor(img, cv2.COLOR_BGR2GRAY )\n",
    "\n",
    "# using haar cascade classifier detecting frontal face in image\n",
    "faces=face_clsfr.detectMultiScale(gray,1.3,5)  \n",
    "\n",
    "# predicting using model on the frontal face detected using haar classifier\n",
    "for (x,y,w,h) in faces:\n",
    "\n",
    "    face_img=gray[y:y+w,x:x+w]                         # cropping face from gray image \n",
    "    resized=cv2.resize(face_img,(150,150))             # resizing image to 150*150 which is image size considered in dataset\n",
    "    normalized=resized/255.0                           # normalizing the image\n",
    "    reshaped=np.reshape(normalized,(1,150,150,1))      # reshaping image to 4d matrix whixh is input for our model\n",
    "    result=model.predict(reshaped)                     # reshaped image is send to model for prediction which returns 0,1\n",
    "\n",
    "    label=np.argmax(result,axis=1)[0]\n",
    "\n",
    "    # draw square around the face and color is based on result\n",
    "    cv2.rectangle(img,(x,y),(x+w,y+h),color_dict[label],2)\n",
    "    cv2.rectangle(img,(x,y+h),(x+w,y+h+40),color_dict[label],2)\n",
    "    # write label the image with the result\n",
    "    cv2.putText(img, labels_dict[label], (x, y+h+25),cv2.FONT_HERSHEY_SIMPLEX,0.8,(255,255,255),1)\n",
    "\n",
    "# uncomment the next line to save the output image\n",
    "# cv2.imwrite('result.png',img)\n",
    "\n",
    "# display result image \n",
    "cv2.imshow('face mask detector',img)\n",
    "cv2.waitKey(0)\n",
    "\n",
    "# destroy all windows\n",
    "cv2.destroyAllWindows()\n",
    "# turn the webcam off\n",
    "source.release()"
   ]
  },
  {
   "cell_type": "markdown",
   "metadata": {},
   "source": [
    "<h1><center> -----Thank-you-----</center></h1>"
   ]
  }
 ],
 "metadata": {
  "kernelspec": {
   "display_name": "Python 3",
   "language": "python",
   "name": "python3"
  },
  "language_info": {
   "codemirror_mode": {
    "name": "ipython",
    "version": 3
   },
   "file_extension": ".py",
   "mimetype": "text/x-python",
   "name": "python",
   "nbconvert_exporter": "python",
   "pygments_lexer": "ipython3",
   "version": "3.8.3"
  }
 },
 "nbformat": 4,
 "nbformat_minor": 4
}
